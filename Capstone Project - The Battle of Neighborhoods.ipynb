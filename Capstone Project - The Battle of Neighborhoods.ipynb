{
    "cells": [
        {
            "cell_type": "markdown",
            "metadata": {
                "collapsed": true
            },
            "source": "## Capstone Project - The Battle of Neighborhoods"
        },
        {
            "cell_type": "markdown",
            "metadata": {},
            "source": "### Introduction"
        },
        {
            "cell_type": "markdown",
            "metadata": {},
            "source": "#### Introduction: Background and problem description"
        },
        {
            "cell_type": "markdown",
            "metadata": {},
            "source": "The French capital of Paris is one of the well-known metropolitan areas in getting abreast of cities such as New York and London and the dream destination for its rich historical and cultural heritage and its gastronomy which UNESCO declared as 'world intangible heritage'. Paris is the real melting pot of culinary world as people from various countries have moved for a long time, shared, developed their specialities.\n\nSince the past few years from now, Paris has set to work for 'The Grand Paris' Project to redefine it as a leading metropolitan area, home to 12 million people, bringing together attrativeness and competitiveness by binding Paris and surroudning suburbs.\n\nHaving been stayed over 10 years in the west suburban area of Paris, two friends, one from Korea and the other from Vietnam have a common project to launch Korean-Vietnamese Fusion Restaurant with the following priorities:\n\n- Main target audience: business people working in La Defense area (a major business district located three kilometres west of the city limits of Paris. It is part of the Paris metropolitan area in the \u00cele-de-France region)\n\n- Localisation with easy access to public transports with visibility\n\n- Opening hours only morning and afternoon in weekdays \n\n- Near Farmers markets / local organic producers to provide a qulity of healthy foods and propose additional service like 'ready to cook' box and participate in local economy \n"
        },
        {
            "cell_type": "markdown",
            "metadata": {},
            "source": "#### A description of the data and how it will be used to solve the problem."
        },
        {
            "cell_type": "markdown",
            "metadata": {},
            "source": "To realize this project, we need to spot competitors with the same opening hours which propose similar menu/services. It's also important to search for ideal area near from Farmer markets / local organic producers and transportations. \n\nWe'll exploring areas and extract features in using Foursquare API and appying Folium to visualize for the audience to easily understand our choice.\nIn addition to those tools, we'll analyze the average number of public transport users through nearby stations and adjacent commerces throughout datasets provided by the RATP Group (French: Groupe RATP), best known as the R\u00e9gie Autonome des Transports Parisiens (English: Autonomous Parisian Transportation Administration), is a state-owned public transport operator and maintainer headquartered in Paris, France.\n"
        },
        {
            "cell_type": "code",
            "execution_count": null,
            "metadata": {},
            "outputs": [],
            "source": ""
        }
    ],
    "metadata": {
        "kernelspec": {
            "display_name": "Python 3.6",
            "language": "python",
            "name": "python3"
        },
        "language_info": {
            "codemirror_mode": {
                "name": "ipython",
                "version": 3
            },
            "file_extension": ".py",
            "mimetype": "text/x-python",
            "name": "python",
            "nbconvert_exporter": "python",
            "pygments_lexer": "ipython3",
            "version": "3.6.9"
        }
    },
    "nbformat": 4,
    "nbformat_minor": 1
}